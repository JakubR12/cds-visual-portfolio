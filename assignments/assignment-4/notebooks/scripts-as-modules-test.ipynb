{
 "cells": [
  {
   "cell_type": "code",
   "execution_count": 3,
   "metadata": {},
   "outputs": [],
   "source": [
    "import os, sys\n",
    "sys.path.append(os.path.join(\"..\"))\n",
    "\n",
    "from src.lr_mnist import main\n"
   ]
  },
  {
   "cell_type": "code",
   "execution_count": 4,
   "metadata": {},
   "outputs": [
    {
     "name": "stdout",
     "output_type": "stream",
     "text": [
      "Preparing data. This may take a while ...\n",
      "The MNIST dataset has been loaded, split and scaled.\n",
      "              precision    recall  f1-score   support\n",
      "\n",
      "           0       0.94      0.97      0.96      1361\n",
      "           1       0.95      0.97      0.96      1531\n",
      "           2       0.93      0.90      0.91      1477\n",
      "           3       0.91      0.90      0.90      1382\n",
      "           4       0.92      0.93      0.93      1371\n",
      "           5       0.89      0.88      0.88      1283\n",
      "           6       0.95      0.96      0.95      1396\n",
      "           7       0.94      0.93      0.94      1425\n",
      "           8       0.90      0.89      0.89      1373\n",
      "           9       0.90      0.90      0.90      1401\n",
      "\n",
      "    accuracy                           0.92     14000\n",
      "   macro avg       0.92      0.92      0.92     14000\n",
      "weighted avg       0.92      0.92      0.92     14000\n",
      "\n",
      "The metric was saved into models folder\n"
     ]
    }
   ],
   "source": [
    "main()"
   ]
  },
  {
   "cell_type": "code",
   "execution_count": null,
   "metadata": {},
   "outputs": [],
   "source": []
  }
 ],
 "metadata": {
  "kernelspec": {
   "display_name": "benchmark_class_venv",
   "language": "python",
   "name": "benchmark_class_venv"
  },
  "language_info": {
   "codemirror_mode": {
    "name": "ipython",
    "version": 3
   },
   "file_extension": ".py",
   "mimetype": "text/x-python",
   "name": "python",
   "nbconvert_exporter": "python",
   "pygments_lexer": "ipython3",
   "version": "3.6.9"
  }
 },
 "nbformat": 4,
 "nbformat_minor": 4
}
