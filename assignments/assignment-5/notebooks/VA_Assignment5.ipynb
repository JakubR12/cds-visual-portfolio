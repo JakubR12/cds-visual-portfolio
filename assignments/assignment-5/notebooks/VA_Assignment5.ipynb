{
 "cells": [
  {
   "cell_type": "markdown",
   "metadata": {},
   "source": [
    "Assignment 5 - CNNs on cultural image data\n",
    "DESCRIPTION\n",
    "\n",
    "Multi-class classification of impressionist painters\n",
    "\n",
    "\n",
    "\n",
    "So far in class, we've been working with 'toy' datasets - handwriting, cats, dogs, and so on. However, this course is on the application of computer vision and deep learning to cultural data. This week, your assignment is to use what you've learned so far to build a classifier which can predict artists from paintings.\n",
    "\n",
    "\n",
    "\n",
    "You can find the data for the assignment here: https://www.kaggle.com/delayedkarma/impressionist-classifier-data\n",
    "\n",
    "\n",
    "\n",
    "Using this data, you should build a deep learning model using convolutional neural networks which classify paintings by their respective artists. Why might we want to do this? Well, consider the scenario where we have found a new, never-before-seen painting which is claimed to be the artist Renoir. An accurate predictive model could be useful here for art historians and archivists!\n",
    "\n",
    "\n",
    "\n",
    "For this assignment, you can use the CNN code we looked at in class, such as the ShallowNet architecture or LeNet. You are also welcome to build your own model, if you dare - I recommend against doing this.\n",
    "\n",
    "\n",
    "\n",
    "Perhaps the most challenging aspect of this assignment will be to get all of the images into format that can be fed into the CNN model. All of the images are of different shapes and sizes, so the first task will be to resize the images to have them be a uniform (smaller) shape.\n",
    "\n",
    "\n",
    "\n",
    "You'll also need to think about how to get the images into an array for the model and how to extract 'labels' from filenames for use in the classification report\n",
    "\n",
    "\n",
    "\n",
    "Tips\n",
    "\n",
    "You should save visualizations showing loss/accuracy of the model during training; you should also a save the output from the classification report\n",
    "I suggest working in groups for this assignment. The data is quite large and will take some time to move over to worker02. Similarly training the models will be time consuming, so it is preferably to have fewer models on the go.\n",
    "You might want to consider a division of labour in your group. One person working on resizing images, one working on extracting labels, one developing the model, etc.\n",
    "For reshaping images, I suggest checking out cv.resize() with the cv2.INTER_AREA method\n",
    "If you have trouble doing this on your own machines, use worker02\n",
    "Don't worry if the results aren't great! This is a complex dataset we're working with\n",
    "\n",
    "\n",
    "\n",
    "\n",
    "General instructions\n",
    "\n",
    "Save your script as cnn-artists.py\n",
    "If you have external dependencies, you must include a requirements.txt\n",
    "You can either upload the script here or push to GitHub and include a link - or both!\n",
    "Your code should be clearly documented in a way that allows others to easily follow along\n",
    "Similarly, remember to use descriptive variable names! A name like X_train is (just) more readable than x1\n",
    "\n",
    "\n",
    "Purpose\n",
    "\n",
    "This assignment is designed to test that you have a understanding of:\n",
    "\n",
    "how to build and train deep convolutional neural networks;\n",
    "how to preprocess and prepare image data for use in these models;\n",
    "how to work with complex, cultural image data, rather than toy datasets\n"
   ]
  },
  {
   "cell_type": "code",
   "execution_count": 23,
   "metadata": {},
   "outputs": [
    {
     "ename": "ImportError",
     "evalue": "cannot import name 'plot_history'",
     "output_type": "error",
     "traceback": [
      "\u001b[0;31m---------------------------------------------------------------------------\u001b[0m",
      "\u001b[0;31mImportError\u001b[0m                               Traceback (most recent call last)",
      "\u001b[0;32m<ipython-input-23-78723d77776c>\u001b[0m in \u001b[0;36m<module>\u001b[0;34m\u001b[0m\n\u001b[1;32m     24\u001b[0m                                      \u001b[0mDropout\u001b[0m\u001b[0;34m,\u001b[0m\u001b[0;34m\u001b[0m\u001b[0;34m\u001b[0m\u001b[0m\n\u001b[1;32m     25\u001b[0m                                      BatchNormalization)\n\u001b[0;32m---> 26\u001b[0;31m \u001b[0;32mfrom\u001b[0m \u001b[0mtensorflow\u001b[0m\u001b[0;34m.\u001b[0m\u001b[0mkeras\u001b[0m\u001b[0;34m.\u001b[0m\u001b[0mutils\u001b[0m \u001b[0;32mimport\u001b[0m \u001b[0mplot_model\u001b[0m\u001b[0;34m,\u001b[0m \u001b[0mplot_history\u001b[0m\u001b[0;34m\u001b[0m\u001b[0;34m\u001b[0m\u001b[0m\n\u001b[0m\u001b[1;32m     27\u001b[0m \u001b[0;32mfrom\u001b[0m \u001b[0mtensorflow\u001b[0m\u001b[0;34m.\u001b[0m\u001b[0mkeras\u001b[0m\u001b[0;34m.\u001b[0m\u001b[0moptimizers\u001b[0m \u001b[0;32mimport\u001b[0m \u001b[0mAdam\u001b[0m\u001b[0;34m,\u001b[0m \u001b[0mSGD\u001b[0m\u001b[0;34m\u001b[0m\u001b[0;34m\u001b[0m\u001b[0m\n\u001b[1;32m     28\u001b[0m \u001b[0;32mfrom\u001b[0m \u001b[0mtensorflow\u001b[0m\u001b[0;34m.\u001b[0m\u001b[0mkeras\u001b[0m \u001b[0;32mimport\u001b[0m \u001b[0mbackend\u001b[0m \u001b[0;32mas\u001b[0m \u001b[0mK\u001b[0m\u001b[0;34m\u001b[0m\u001b[0;34m\u001b[0m\u001b[0m\n",
      "\u001b[0;31mImportError\u001b[0m: cannot import name 'plot_history'"
     ]
    }
   ],
   "source": [
    "import numpy as np\n",
    "import matplotlib.pyplot as plt\n",
    "import os \n",
    "import cv2\n",
    "from tqdm import tqdm\n",
    "import sys\n",
    "import random\n",
    "\n",
    "sys.path.append(os.path.join(\"..\"))\n",
    "from utils.imutils import jimshow\n",
    "\n",
    "# sklearn tools\n",
    "from sklearn.preprocessing import LabelBinarizer\n",
    "from sklearn.metrics import classification_report\n",
    "\n",
    "# tf tools\n",
    "from tensorflow.keras.datasets import cifar10\n",
    "from tensorflow.keras.models import Sequential\n",
    "from tensorflow.keras.layers import (Conv2D, \n",
    "                                     MaxPooling2D, \n",
    "                                     Activation, \n",
    "                                     Flatten, \n",
    "                                     Dense,\n",
    "                                     Dropout,\n",
    "                                     BatchNormalization)\n",
    "from tensorflow.keras.utils import plot_model\n",
    "from tensorflow.keras.optimizers import Adam, SGD\n",
    "from tensorflow.keras import backend as K\n",
    "from tensorflow.keras.callbacks import EarlyStopping\n",
    "from tensorflow.keras.preprocessing.image import ImageDataGenerator, array_to_img, img_to_array, load_img\n"
   ]
  },
  {
   "cell_type": "code",
   "execution_count": 3,
   "metadata": {},
   "outputs": [
    {
     "name": "stderr",
     "output_type": "stream",
     "text": [
      "100%|██████████| 398/398 [00:07<00:00, 55.24it/s]\n",
      "100%|██████████| 398/398 [00:09<00:00, 43.41it/s]\n",
      "100%|██████████| 397/397 [00:06<00:00, 57.30it/s]\n",
      "100%|██████████| 398/398 [00:14<00:00, 28.06it/s]\n",
      "100%|██████████| 398/398 [00:14<00:00, 27.21it/s]\n",
      "100%|██████████| 398/398 [00:06<00:00, 61.63it/s]\n",
      "100%|██████████| 397/397 [00:12<00:00, 32.01it/s]\n",
      "100%|██████████| 398/398 [00:16<00:00, 23.79it/s]\n",
      "100%|██████████| 398/398 [00:05<00:00, 69.22it/s]\n",
      "100%|██████████| 398/398 [00:14<00:00, 27.84it/s]\n",
      "100%|██████████| 98/98 [00:01<00:00, 57.27it/s]\n",
      "100%|██████████| 98/98 [00:02<00:00, 43.32it/s]\n",
      "100%|██████████| 98/98 [00:01<00:00, 56.22it/s]\n",
      "100%|██████████| 98/98 [00:03<00:00, 29.38it/s]\n",
      "100%|██████████| 98/98 [00:03<00:00, 30.50it/s]\n",
      "100%|██████████| 98/98 [00:02<00:00, 48.99it/s]\n",
      "100%|██████████| 98/98 [00:02<00:00, 33.23it/s]\n",
      "100%|██████████| 98/98 [00:03<00:00, 27.18it/s]\n",
      "100%|██████████| 98/98 [00:01<00:00, 56.39it/s]\n",
      "100%|██████████| 98/98 [00:03<00:00, 31.41it/s]\n"
     ]
    }
   ],
   "source": [
    "\n",
    "training_dir = os.path.join(\"..\", \"data\", \"data_assignment5\", \"training\", \"training\")\n",
    "\n",
    "test_dir = os.path.join(\"..\", \"data\", \"data_assignment5\", \"validation\", \"validation\")\n",
    "\n",
    "def create_data(DATADIR,n = -1, IMG_SIZE = 64):\n",
    "    data = []\n",
    "    CATEGORIES = os.listdir(DATADIR)\n",
    "    for category in CATEGORIES:  # do dogs and cats\n",
    "\n",
    "        path = os.path.join(DATADIR,category)  # create path to dogs and cats\n",
    "        class_num = CATEGORIES.index(category)  # get the classification  (0 or a 1). 0=dog 1=cat\n",
    "\n",
    "        for img in tqdm(os.listdir(path)[:n]):  # iterate over each image per dogs and cats\n",
    "            try:\n",
    "                img_array = cv2.imread(os.path.join(path,img))  # convert to array\n",
    "                new_array = cv2.resize(img_array, (IMG_SIZE, IMG_SIZE))  # resize to normalize data size\n",
    "                new_array = new_array/255\n",
    "                data.append([new_array, class_num])  # add this to our training_data\n",
    "            except Exception as e:  # in the interest in keeping the output clean...\n",
    "                pass\n",
    "            #except OSError as e:\n",
    "            #    print(\"OSErrroBad img most likely\", e, os.path.join(path,img))\n",
    "            #except Exception as e:\n",
    "            #    print(\"general exception\", e, os.path.join(path,img))\n",
    "    \n",
    "    random.shuffle(data)\n",
    "    X = []\n",
    "    y = []\n",
    "\n",
    "    for features,label in data:\n",
    "        X.append(features)\n",
    "        y.append(label)\n",
    "\n",
    "\n",
    "    X = np.array(X).reshape(-1, IMG_SIZE, IMG_SIZE, 3)\n",
    "    lb = LabelBinarizer()\n",
    "    y = lb.fit_transform(y)\n",
    "    return (X,y)\n",
    "\n",
    "X_train,y_train = create_data(training_dir)\n",
    "\n",
    "X_test,y_test = create_data(test_dir)\n"
   ]
  },
  {
   "cell_type": "markdown",
   "metadata": {},
   "source": [
    "### LeNet"
   ]
  },
  {
   "cell_type": "code",
   "execution_count": 12,
   "metadata": {},
   "outputs": [],
   "source": [
    "image_size = 64"
   ]
  },
  {
   "cell_type": "code",
   "execution_count": 42,
   "metadata": {},
   "outputs": [],
   "source": [
    "# define model\n",
    "model = Sequential()\n",
    "\n",
    "# first set of CONV => RELU => POOL\n",
    "model.add(Conv2D(32, (3, 3), \n",
    "                 padding=\"same\", \n",
    "                 input_shape=(image_size, image_size, 3)))\n",
    "model.add(BatchNormalization())\n",
    "model.add(Activation(\"relu\"))\n",
    "model.add(MaxPooling2D(pool_size=(2, 2), \n",
    "                       strides=(2, 2)))\n",
    "model.add(Dropout(0.2))\n",
    "\n",
    "# second set of CONV => RELU => POOL\n",
    "model.add(Conv2D(64, (5, 5), \n",
    "                 padding=\"same\"))\n",
    "model.add(BatchNormalization())\n",
    "model.add(Activation(\"relu\"))\n",
    "model.add(MaxPooling2D(pool_size=(2, 2), \n",
    "                       strides=(2, 2)))\n",
    "model.add(Dropout(0.2))\n",
    "\n",
    "# FC => RELU\n",
    "\n",
    "model.add(Flatten())\n",
    "model.add(Dense(128))\n",
    "model.add(BatchNormalization())\n",
    "model.add(Activation(\"relu\"))\n",
    "model.add(Dropout(0.5))\n",
    "\n",
    "\n",
    "# softmax classifier\n",
    "model.add(Dense(10))\n",
    "model.add(Activation(\"softmax\"))"
   ]
  },
  {
   "cell_type": "code",
   "execution_count": 44,
   "metadata": {},
   "outputs": [
    {
     "name": "stdout",
     "output_type": "stream",
     "text": [
      "Found 3988 images belonging to 10 classes.\n",
      "Found 990 images belonging to 10 classes.\n"
     ]
    }
   ],
   "source": [
    "\n",
    "# this is the augmentation configuration we will use for training\n",
    "train_datagen = ImageDataGenerator(\n",
    "        rescale=1./255,\n",
    "        shear_range=0.4,\n",
    "        zoom_range=0.4,\n",
    "        horizontal_flip=True)\n",
    "\n",
    "\n",
    "# this is the augmentation configuration we will use for testing:\n",
    "# only rescaling\n",
    "test_datagen = ImageDataGenerator(rescale=1./255)\n",
    "\n",
    "batch_size = 8\n",
    "# this is a generator that will read pictures found in\n",
    "# subfolers of 'data/train', and indefinitely generate\n",
    "# batches of augmented image data\n",
    "train_generator = train_datagen.flow_from_directory(\n",
    "        training_dir,  # this is the target directory\n",
    "        target_size=(image_size, image_size),  # all images will be resized to 150x150\n",
    "        batch_size=batch_size,\n",
    "        class_mode='categorical',\n",
    "        interpolation = \"lanczos\")  # since we use binary_crossentropy loss, we need binary labels\n",
    "\n",
    "# this is a similar generator, for validation data\n",
    "validation_generator = test_datagen.flow_from_directory(\n",
    "        test_dir,\n",
    "        target_size=(image_size, image_size),\n",
    "        batch_size=batch_size,\n",
    "        class_mode='categorical',\n",
    "        interpolation = \"lanczos\")\n",
    "\n",
    "callback = EarlyStopping(monitor='accuracy', patience=10, min_delta = 0.0001)\n",
    "opt = SGD(lr=0.001, momentum = 0.9)\n",
    "model.compile(loss=\"categorical_crossentropy\",\n",
    "              optimizer= opt,\n",
    "              metrics=[\"accuracy\"])"
   ]
  },
  {
   "cell_type": "code",
   "execution_count": 45,
   "metadata": {},
   "outputs": [
    {
     "name": "stdout",
     "output_type": "stream",
     "text": [
      "Epoch 1/10\n",
      "125/125 [==============================] - 52s 409ms/step - loss: 2.6917 - accuracy: 0.1486 - val_loss: 2.5319 - val_accuracy: 0.1411\n",
      "Epoch 2/10\n",
      "125/125 [==============================] - 50s 398ms/step - loss: 2.3759 - accuracy: 0.1960 - val_loss: 2.3677 - val_accuracy: 0.1573\n",
      "Epoch 3/10\n",
      "125/125 [==============================] - 50s 398ms/step - loss: 2.2893 - accuracy: 0.2074 - val_loss: 2.1745 - val_accuracy: 0.1976\n",
      "Epoch 4/10\n",
      "125/125 [==============================] - 50s 399ms/step - loss: 2.1990 - accuracy: 0.2646 - val_loss: 2.0321 - val_accuracy: 0.2702\n",
      "Epoch 5/10\n",
      "125/125 [==============================] - 51s 407ms/step - loss: 2.2324 - accuracy: 0.2468 - val_loss: 2.5072 - val_accuracy: 0.2137\n",
      "Epoch 6/10\n",
      "125/125 [==============================] - 51s 407ms/step - loss: 2.1386 - accuracy: 0.2533 - val_loss: 1.9798 - val_accuracy: 0.2823\n",
      "Epoch 7/10\n",
      "125/125 [==============================] - 53s 426ms/step - loss: 2.0411 - accuracy: 0.2726 - val_loss: 2.0583 - val_accuracy: 0.3226\n",
      "Epoch 8/10\n",
      "125/125 [==============================] - 53s 423ms/step - loss: 1.9940 - accuracy: 0.3319 - val_loss: 2.1327 - val_accuracy: 0.2863\n",
      "Epoch 9/10\n",
      "125/125 [==============================] - 53s 428ms/step - loss: 1.9404 - accuracy: 0.2982 - val_loss: 1.9721 - val_accuracy: 0.3266\n",
      "Epoch 10/10\n",
      "125/125 [==============================] - 52s 417ms/step - loss: 2.0974 - accuracy: 0.2672 - val_loss: 1.9882 - val_accuracy: 0.3266\n"
     ]
    }
   ],
   "source": [
    "batch_size = 32\n",
    "H = model.fit(\n",
    "        train_generator,\n",
    "        epochs=10,\n",
    "        batch_size = batch_size,\n",
    "        steps_per_epoch = 4000//batch_size,\n",
    "        validation_data=validation_generator,\n",
    "        validation_steps = 1000//batch_size,\n",
    "              verbose=1,\n",
    "              callbacks=[callback]\n",
    "        )"
   ]
  },
  {
   "cell_type": "code",
   "execution_count": 281,
   "metadata": {},
   "outputs": [],
   "source": [
    "model.save_weights(os.path.join(\"..\",\"data\", \"data_assignment5\", \"weights\",\"model.h5\"))\n"
   ]
  },
  {
   "cell_type": "code",
   "execution_count": 15,
   "metadata": {},
   "outputs": [],
   "source": [
    "model.load_weights(os.path.join(\"..\",\"data\", \"data_assignment5\", \"weights\",\"model.h5\"))"
   ]
  },
  {
   "cell_type": "code",
   "execution_count": 58,
   "metadata": {},
   "outputs": [
    {
     "data": {
      "image/png": "[encoded data removed]",
      "text/plain": [
       "<Figure size 432x288 with 1 Axes>"
      ]
     },
     "metadata": {},
     "output_type": "display_data"
    }
   ],
   "source": [
    "def plot_history(H, epochs,file_name):\n",
    "    # visualize performance\n",
    "    plt.style.use(\"fivethirtyeight\")\n",
    "    plt.figure()\n",
    "    plt.plot(np.arange(0, epochs), H.history[\"loss\"], label=\"train_loss\")\n",
    "    plt.plot(np.arange(0, epochs), H.history[\"val_loss\"], label=\"val_loss\")\n",
    "    plt.plot(np.arange(0, epochs), H.history[\"accuracy\"], label=\"train_acc\")\n",
    "    plt.plot(np.arange(0, epochs), H.history[\"val_accuracy\"], label=\"val_acc\")\n",
    "    plt.title(\"Training Loss and Accuracy\")\n",
    "    plt.xlabel(\"Epoch #\")\n",
    "    plt.ylabel(\"Loss/Accuracy\")\n",
    "    plt.legend()\n",
    "    plt.tight_layout()\n",
    "    plt.draw()\n",
    "    plt.savefig(file_name)\n",
    "    plt.show()\n",
    "plot_history(H,10,os.path.join(\"..\",\"data\", \"data_assignment5\", \"out\",\"history_plot.png\"))\n"
   ]
  },
  {
   "cell_type": "code",
   "execution_count": 62,
   "metadata": {},
   "outputs": [
    {
     "name": "stdout",
     "output_type": "stream",
     "text": [
      "124/124 [==============================] - 39s 316ms/step\n",
      "              precision    recall  f1-score   support\n",
      "\n",
      "           0       0.10      0.12      0.11        99\n",
      "           1       0.07      0.05      0.06        99\n",
      "           2       0.07      0.03      0.04        99\n",
      "           3       0.07      0.04      0.05        99\n",
      "           4       0.11      0.02      0.03        99\n",
      "           5       0.05      0.02      0.03        99\n",
      "           6       0.09      0.19      0.12        99\n",
      "           7       0.05      0.05      0.05        99\n",
      "           8       0.15      0.17      0.16        99\n",
      "           9       0.11      0.24      0.15        99\n",
      "\n",
      "    accuracy                           0.09       990\n",
      "   macro avg       0.09      0.09      0.08       990\n",
      "weighted avg       0.09      0.09      0.08       990\n",
      "\n"
     ]
    }
   ],
   "source": [
    "\n",
    "\n",
    "# get the ground truth of your data. \n",
    "test_labels=validation_generator.classes \n",
    "\n",
    "# predict the probability distribution of the data\n",
    "predictions=model.predict(validation_generator, verbose=1)\n",
    "\n",
    "# get the class with highest probability for each sample\n",
    "y_pred = np.argmax(predictions, axis=-1)\n",
    "\n",
    "# get the classification report\n",
    "cr = classification_report(test_labels, y_pred)\n",
    "print(cr)\n",
    "filepath = os.path.join(\"..\",\"data\",\"data_assignment5\",\"out\",\"metrics.txt\")\n",
    "text_file = open(filepath, \"w\")\n",
    "text_file.write(cr)\n",
    "text_file.close()"
   ]
  }
 ],
 "metadata": {
  "kernelspec": {
   "display_name": "cv101",
   "language": "python",
   "name": "cv101"
  },
  "language_info": {
   "codemirror_mode": {
    "name": "ipython",
    "version": 3
   },
   "file_extension": ".py",
   "mimetype": "text/x-python",
   "name": "python",
   "nbconvert_exporter": "python",
   "pygments_lexer": "ipython3",
   "version": "3.6.9"
  }
 },
 "nbformat": 4,
 "nbformat_minor": 4
}
